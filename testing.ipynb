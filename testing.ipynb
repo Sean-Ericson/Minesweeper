{
 "cells": [
  {
   "cell_type": "code",
   "execution_count": 8,
   "metadata": {},
   "outputs": [],
   "source": [
    "from Minesweeper import *\n",
    "from MS_GUI import *\n",
    "from MS_AI import *\n",
    "import math\n",
    "import numpy as np\n",
    "import matplotlib.pyplot as plt\n",
    "import networkx as nx"
   ]
  },
  {
   "cell_type": "code",
   "execution_count": null,
   "metadata": {},
   "outputs": [],
   "source": [
    "G = nx.petersen_graph()\n",
    "subax1 = plt.subplot(121)\n",
    "nx.draw(G, with_labels=True, font_weight='bold')\n",
    "subax2 = plt.subplot(122)\n",
    "nx.draw_shell(G, nlist=[range(5, 10), range(5)], with_labels=True, font_weight='bold')"
   ]
  },
  {
   "cell_type": "code",
   "execution_count": null,
   "metadata": {},
   "outputs": [],
   "source": [
    "graph = nx.Graph()\n",
    "\n",
    "graph.add_node(1, number=True)\n",
    "graph.add_node(2, number=False)\n",
    "graph.add_node(3, number=False)\n",
    "graph.add_edge(1, 2, foo=\"bar\")\n",
    "graph.add_edge(1, 3, foo=\"boof\")\n",
    "\n",
    "graph.add_node(4, number=True)\n",
    "graph.add_node(5, number=False)\n",
    "graph.add_node(6, number=False)\n",
    "graph.add_edge(4, 5, foo=\"foob\")\n",
    "graph.add_edge(4, 6, foo=\"rab\")\n",
    "graph.add_edge(6, 1)\n",
    "graph.add_edge(5, 6)\n",
    "\n",
    "nx.draw(graph, with_labels=True, pos=nx.spring_layout(graph))"
   ]
  }
 ],
 "metadata": {
  "kernelspec": {
   "display_name": "base",
   "language": "python",
   "name": "python3"
  },
  "language_info": {
   "codemirror_mode": {
    "name": "ipython",
    "version": 3
   },
   "file_extension": ".py",
   "mimetype": "text/x-python",
   "name": "python",
   "nbconvert_exporter": "python",
   "pygments_lexer": "ipython3",
   "version": "3.11.10"
  }
 },
 "nbformat": 4,
 "nbformat_minor": 2
}
