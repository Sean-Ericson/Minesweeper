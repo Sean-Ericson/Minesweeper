{
 "cells": [
  {
   "cell_type": "code",
   "execution_count": null,
   "metadata": {},
   "outputs": [],
   "source": [
    "import networkx as nx\n",
    "import matplotlib.pyplot as plt\n",
    "import numpy as np\n",
    "from Minesweeper import *\n",
    "from functools import reduce\n",
    "import math"
   ]
  },
  {
   "cell_type": "code",
   "execution_count": null,
   "metadata": {},
   "outputs": [],
   "source": [
    "G = nx.petersen_graph()\n",
    "subax1 = plt.subplot(121)\n",
    "nx.draw(G, with_labels=True, font_weight='bold')\n",
    "subax2 = plt.subplot(122)\n",
    "nx.draw_shell(G, nlist=[range(5, 10), range(5)], with_labels=True, font_weight='bold')"
   ]
  },
  {
   "cell_type": "code",
   "execution_count": null,
   "metadata": {},
   "outputs": [],
   "source": [
    "graph = nx.Graph()\n",
    "\n",
    "graph.add_node(1, number=True)\n",
    "graph.add_node(2, number=False)\n",
    "graph.add_node(3, number=False)\n",
    "graph.add_edge(1, 2, foo=\"bar\")\n",
    "graph.add_edge(1, 3, foo=\"boof\")\n",
    "\n",
    "graph.add_node(4, number=True)\n",
    "graph.add_node(5, number=False)\n",
    "graph.add_node(6, number=False)\n",
    "graph.add_edge(4, 5, foo=\"foob\")\n",
    "graph.add_edge(4, 6, foo=\"rab\")"
   ]
  },
  {
   "cell_type": "code",
   "execution_count": null,
   "metadata": {},
   "outputs": [],
   "source": [
    "nx.draw(graph, with_labels=True)"
   ]
  },
  {
   "cell_type": "code",
   "execution_count": null,
   "metadata": {},
   "outputs": [],
   "source": [
    "g1 = list(nx.connected_components(graph))[0]\n",
    "print(g1)"
   ]
  },
  {
   "cell_type": "code",
   "execution_count": null,
   "metadata": {},
   "outputs": [],
   "source": [
    "a = set([1, 2, 3])\n",
    "b = set([1, 2, 4])\n",
    "print(a == b)"
   ]
  },
  {
   "cell_type": "code",
   "execution_count": null,
   "metadata": {},
   "outputs": [],
   "source": [
    "print(list(a))\n",
    "print(list(a))\n",
    "print(list(a))\n",
    "print(list(a))\n",
    "print(list(a))\n",
    "print(list(a))"
   ]
  },
  {
   "cell_type": "code",
   "execution_count": null,
   "metadata": {},
   "outputs": [],
   "source": [
    "min(1, 2, 3)"
   ]
  },
  {
   "cell_type": "code",
   "execution_count": null,
   "metadata": {},
   "outputs": [],
   "source": [
    "foo = [1,2,3]\n",
    "print(np.random.shuffle(foo))"
   ]
  },
  {
   "cell_type": "code",
   "execution_count": null,
   "metadata": {},
   "outputs": [],
   "source": [
    "np.random.shuffle(foo)\n",
    "print(foo)"
   ]
  },
  {
   "cell_type": "code",
   "execution_count": null,
   "metadata": {},
   "outputs": [],
   "source": [
    "def prob(i, N, m):\n",
    "    return math.comb(N, i) * math.comb(N-i, 2*(m - i)) * math.comb(2*(m - i), m-i) / math.comb(N, m)**2\n",
    "\n",
    "N = 100\n",
    "m = 10\n",
    "num_samples = 1e5\n",
    "initial_set = list(range(N))\n",
    "possible_i = list(range(max(0, 2*m - N), m+1))\n",
    "samples = [len(set(np.random.choice(initial_set, m, replace=False)).intersection(set(np.random.choice(initial_set, m, replace=False)))) for _ in range(int(num_samples))]\n",
    "heights = [len([x for x in samples if x==i])/num_samples for i in possible_i]\n",
    "probs = [prob(i, N, m) for i in possible_i]\n",
    "plt.bar(possible_i, heights)\n",
    "plt.plot(possible_i, probs, 'r')"
   ]
  },
  {
   "cell_type": "code",
   "execution_count": null,
   "metadata": {},
   "outputs": [],
   "source": [
    "max(samples)"
   ]
  },
  {
   "cell_type": "code",
   "execution_count": null,
   "metadata": {},
   "outputs": [],
   "source": []
  }
 ],
 "metadata": {
  "kernelspec": {
   "display_name": "base",
   "language": "python",
   "name": "python3"
  },
  "language_info": {
   "codemirror_mode": {
    "name": "ipython",
    "version": 3
   },
   "file_extension": ".py",
   "mimetype": "text/x-python",
   "name": "python",
   "nbconvert_exporter": "python",
   "pygments_lexer": "ipython3",
   "version": "3.9.17"
  }
 },
 "nbformat": 4,
 "nbformat_minor": 2
}
